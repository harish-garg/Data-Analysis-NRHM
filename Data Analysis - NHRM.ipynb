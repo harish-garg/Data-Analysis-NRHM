{
 "cells": [
  {
   "cell_type": "code",
   "execution_count": 136,
   "metadata": {
    "collapsed": true
   },
   "outputs": [],
   "source": [
    "#!/usr/bin/python\n",
    "\n",
    "# Import the necessary libraries\n",
    "\n",
    "import pandas as pd"
   ]
  },
  {
   "cell_type": "code",
   "execution_count": 137,
   "metadata": {
    "collapsed": false
   },
   "outputs": [],
   "source": [
    "# Import a sample xls file into a pandas data strcuture\n",
    "file = \"DHIS (APRIL 15-MARCH 16)/BHIWAPUR BLOCK/PHC/Copy of MonthlyProgressReportMIES_PHC Jawali_Apr-2015.xls\"\n",
    "\n",
    "df = pd.read_excel(file, sheetname=0, skiprows=7, parse_cols=[1,2,3,16])\n",
    "### Rename the columns to something more descriptive.\n",
    "df.columns = ['Code', 'Indicator', 'Type', 'Total']"
   ]
  },
  {
   "cell_type": "code",
   "execution_count": 138,
   "metadata": {
    "collapsed": false
   },
   "outputs": [
    {
     "ename": "SyntaxError",
     "evalue": "invalid syntax (<ipython-input-138-19592992f264>, line 12)",
     "output_type": "error",
     "traceback": [
      "\u001b[1;36m  File \u001b[1;32m\"<ipython-input-138-19592992f264>\"\u001b[1;36m, line \u001b[1;32m12\u001b[0m\n\u001b[1;33m    418: ['17.2.2, 'Asphyxia'],\u001b[0m\n\u001b[1;37m                           ^\u001b[0m\n\u001b[1;31mSyntaxError\u001b[0m\u001b[1;31m:\u001b[0m invalid syntax\n"
     ]
    }
   ],
   "source": [
    "# fill Code and Indicator where the values are null due to Cell merge in the xls file.\n",
    "codes_dict = {\n",
    "                225: ['14.10.1.a', 'Male'],\n",
    "                227: ['14.10.1.b', 'Female'],\n",
    "                229: ['14.10.1.c', 'Total'],\n",
    "                252: ['15.1.2.a', 'Male'],\n",
    "                254: ['15.1.2.b','Female-Non ANC'],\n",
    "                256: ['15.1.2.c','Female-Non ANC'],\n",
    "                258: ['15.1.2.d','Total'],\n",
    "                415: ['17.2.1', 'Sepsis'],\n",
    "                416: ['17.2.1', 'Sepsis'],\n",
    "                418: ['17.2.2, 'Asphyxia'],\n",
    "                419: ['17.2.2, 'Asphyxia'],\n",
    "                421: ['17.2.3', 'LBW'],\n",
    "                422: ['17.2.3', 'LBW'],\n",
    "                424: ['17.2.4', 'Others'],\n",
    "                425: ['17.2.4', 'Others'],\n",
    "                428: ['17.3.1', 'Pneumonia'],\n",
    "                429: ['17.3.1', 'Pneumonia'],\n",
    "                431: ['17.3.2', 'Diarrhoea'],\n",
    "                432: ['17.3.2', 'Diarrhoea'],\n",
    "                434: ['17.3.3', 'Fever related'],\n",
    "                435: ['17.3.3', 'Fever related'],\n",
    "                437: ['17.3.4', 'Measles'],\n",
    "                438: ['17.3.4', 'Measles'],\n",
    "                440: ['17.3.5', 'Others'],\n",
    "                441: ['17.3.5', 'Others'],\n",
    "                444: ['17.4.1', 'Diarrhoeal diseases'],\n",
    "                445: ['17.4.1', 'Diarrhoeal diseases'],\n",
    "                446: ['17.4.1', 'Diarrhoeal diseases'],\n",
    "                448: ['17.4.2', 'Tuberculosis'],\n",
    "                449: ['17.4.2', 'Tuberculosis'],\n",
    "                450: ['17.4.2', 'Tuberculosis'],\n",
    "                452: ['17.4.3', 'Respiratory diseases including infections other than TB'],\n",
    "                453: ['17.4.3', 'Respiratory diseases including infections other than TB'],\n",
    "                454: ['17.4.3', 'Respiratory diseases including infections other than TB'],\n",
    "                456: ['17.4.4', 'Malaria'],\n",
    "                457: ['17.4.4', 'Malaria'],\n",
    "                458: ['17.4.4', 'Malaria'],\n",
    "                460: ['17.4.5', 'Other Fever Related'],\n",
    "                461: ['17.4.5', 'Other Fever Related'],\n",
    "                462: ['17.4.5', 'Other Fever Related'],\n",
    "                464: ['17.4.6', 'HIV/AIDS'],\n",
    "                465: ['17.4.6', 'HIV/AIDS'],\n",
    "                466: ['17.4.6', 'HIV/AIDS'],\n",
    "                468: ['17.4.7', 'Heart disease/Hypertension related'],\n",
    "                469: ['17.4.7', 'Heart disease/Hypertension related'],\n",
    "                470: ['17.4.7', 'Heart disease/Hypertension related'],\n",
    "                472: ['17.4.8', 'Neurological disease including strokes'],\n",
    "                473: ['17.4.8', 'Neurological disease including strokes'],\n",
    "                474: ['17.4.8', 'Neurological disease including strokes'],\n",
    "                477: ['17.4.9a', 'Abortion'],\n",
    "                478: ['17.4.9a', 'Abortion'],\n",
    "                479: ['17.4.9a', 'Abortion'],\n",
    "                481: ['17.4.9b', 'Obstructed/prolonged labour'],\n",
    "                482: ['17.4.9b', 'Obstructed/prolonged labour'],\n",
    "                483: ['17.4.9b', 'Obstructed/prolonged labour'],\n",
    "                485: ['17.4.9c', 'Severe hypertesnion/fits'],\n",
    "                486: ['17.4.9c', 'Severe hypertesnion/fits'],\n",
    "                487: ['17.4.9c', 'Severe hypertesnion/fits'],\n",
    "                489: ['17.4.9d', 'Bleeding'],\n",
    "                490: ['17.4.9d', 'Bleeding'],\n",
    "                491: ['17.4.9d', 'Bleeding'],\n",
    "                493: ['17.4.9e', 'High fever'],\n",
    "                494: ['17.4.9e', 'High fever'],\n",
    "                495: ['17.4.9e', 'High fever'],\n",
    "                497: ['17.4.9f', 'Other Causes including causes not known'],\n",
    "                498: ['17.4.9f', 'Other Causes including causes not known'],\n",
    "                499: ['17.4.9f', 'Other Causes including causes not known'],\n",
    "                501: ['17.4.10', 'Trauma/Accidents/Burn cases' ],\n",
    "                502: ['17.4.10', 'Trauma/Accidents/Burn cases'],\n",
    "                503: ['17.4.10', 'Trauma/Accidents/Burn cases'],\n",
    "                505: ['17.4.11', 'Suicide'],\n",
    "                506: ['17.4.11', 'Suicide'],\n",
    "                507: ['17.4.11', 'Suicide'],\n",
    "                509: ['17.4.12', 'Animal bites and stings'],\n",
    "                510: ['17.4.12', 'Animal bites and stings'],\n",
    "                511: ['17.4.12', 'Animal bites and stings'],\n",
    "                514: ['17.4.13a', 'Known Acute Disease'],\n",
    "                515: ['17.4.13a', 'Known Acute Disease'],\n",
    "                516: ['17.4.13a', 'Known Acute Disease'],\n",
    "                518: ['17.4.13b','Known Chronic Disease'],\n",
    "                519: ['17.4.13b','Known Chronic Disease'],\n",
    "                520: ['17.4.13b','Known Chronic Disease'],\n",
    "                522: ['17.4.13c','Causes not known'],\n",
    "                523: ['17.4.13c','Causes not known'],\n",
    "                524: ['17.4.13c','Causes not known']\n",
    "            }\n",
    "\n",
    "for key, value in codes_dict.iteritems():\n",
    "    df.set_value(key,'Code',value[0])\n",
    "    df.set_value(key,'Indicator',value[1])\n",
    "#    print key, value[0], value[1]\n",
    "#    print df.ix[key]\n",
    "\n",
    "df[df['Code'].isnull()]"
   ]
  },
  {
   "cell_type": "code",
   "execution_count": null,
   "metadata": {
    "collapsed": false
   },
   "outputs": [],
   "source": [
    "# Cleanup the DataFrame\n",
    "\n",
    "### Delete the rows relating to Category Part D which has no values and were hidden in the file\n",
    "part_d = df[df.Code == 'Part D'].index.tolist()[0]\n",
    "part_e = df[df.Code == 'Part E'].index.tolist()[0]\n",
    "df.drop(df[df.index.isin(range(part_d, part_e))].index.tolist(), inplace=True)\n",
    "\n",
    "### Delete the rows which have no values(for examples the category headers)\n",
    "#df.drop(df[df['Type'].isnull()].index.tolist(), inplace=True)"
   ]
  },
  {
   "cell_type": "code",
   "execution_count": null,
   "metadata": {
    "collapsed": false
   },
   "outputs": [],
   "source": [
    "# Add a new column for top level classification.\n",
    "df['Program'] = ''\n",
    "prog_dict = {\n",
    "                '^\\d\\.': 'REPRODUCTIVE AND CHILD HEALTH',\n",
    "                '^1[0-2]\\.': 'REPRODUCTIVE AND CHILD HEALTH',\n",
    "                '^13\\.': 'Other Programmes',\n",
    "                '^1[4-5]\\.': 'Health Facility Services',\n",
    "                '^17\\.': 'Mortality Details'\n",
    "            }\n",
    "for key, value in prog_dict.iteritems():\n",
    "    df['Program'][df.Code.str.contains(key, na=False)] = value\n"
   ]
  },
  {
   "cell_type": "code",
   "execution_count": null,
   "metadata": {
    "collapsed": false
   },
   "outputs": [],
   "source": [
    "# Add a new column for category\n",
    "df['Category'] = ''\n",
    "cat_dict = {\n",
    "            '^1\\.': 'Ante Natal Care Services ANC',\n",
    "            '^2\\.': 'Deliveries',\n",
    "            '^3\\.': 'Number of Caesarean C-Section deliveries performed at ',\n",
    "            '^4\\.': 'Pregnancy outcome & weight of new-born',\n",
    "            '^5\\.': 'Complicated pregnanices',\n",
    "            '^6\\.': 'Post - Natal Care',\n",
    "            '^7\\.': 'Medical Termination of Pregnancy (MTP)',\n",
    "            '^8\\.': 'RTI/STI Cases',\n",
    "            '^9\\.': 'Family Planning',\n",
    "            '^10\\.': 'CHILD IMMUNIZATION',\n",
    "            '^11\\.': 'Number of Vitamin A doses ',\n",
    "            '^12\\.': 'Number of cases of Childhood Diseases reported 0-5 years',\n",
    "            '^13\\.': 'Blindness Control Programme',\n",
    "            '^14\\.': 'Patient Services',\n",
    "            '^15\\.': 'Laboratory Testing',\n",
    "            '^17\\.': 'Details of deaths reported during the month with probable causes'    \n",
    "           }\n",
    "\n",
    "for key, value in cat_dict.iteritems():\n",
    "    df['Category'][df.Code.str.contains(key, na=False)] = value\n"
   ]
  },
  {
   "cell_type": "code",
   "execution_count": null,
   "metadata": {
    "collapsed": false
   },
   "outputs": [],
   "source": [
    "# Add a new column for sub-category level\n",
    "df['Sub-Category'] = ''\n",
    "sub_cat_dict = {\n",
    "                '^1\\.[4-6]': 'Number of pregnant women given',\n",
    "                '^1\\.7]': 'Pregnant women with Anaemia',\n",
    "                '^2\\.1': 'Deliveries conducted at Home', \n",
    "                '^2\\.2\\.2]': 'Number of cases where JSY incentive paid to', \n",
    "                '^2\\.3\\.1': 'Number of institutional delivery cases where JSY incentive paid to',\n",
    "                '^3\\.1': 'Public facilities', \n",
    "                '^4\\.1': 'Pregnancy Outcome (in number)',\n",
    "                '^4\\.2': 'Details of Newborn children weighed',\n",
    "                '^5\\.1': 'Number of cases of pregnant women with Obstetric Complications and attended at Public facilities',\n",
    "                '^5\\.3': 'Number of Complicated pregnancies treated with',\n",
    "                '^7\\.1': 'Number of MTPs conducted at Public Institutions',\n",
    "                '^8\\.1': 'Number of new RTI/STI for which treatment initiated',\n",
    "                '^9\\.1': 'Number of NSV/Conventional Vasectomy conducted',\n",
    "                '^9\\.2': 'Number of Laparoscopic sterilizations conducted',\n",
    "                '^9\\.3': 'Number of Mini-lap sterilizations conducted ',\n",
    "                '^9\\.4': 'Number of Post-Partum sterilizations conducted ',\n",
    "                '^9\\.5': 'Number of IUD Insertions',\n",
    "                '^9\\.11\\.1': 'Number of complications following sterilization',\n",
    "                '^9\\.11\\.2': 'Number of failures following sterilization',\n",
    "                '^9\\.11\\.3': 'Number of deaths following sterilization',\n",
    "                '^10\\.1\\.[0-1]\\d': 'Number of Infants 0 to 11 months old who received the following',\n",
    "                '^10\\.1\\.13\\.[a-c]': 'Total number of children aged between 9 and 11 months who have been fully immunised (BCG+DPT123+OPV123+Measles) during the month',\n",
    "                '^10\\.2': 'Number of children more than 16 months who received the following',\n",
    "                '^10\\.3\\.1': 'Total number of children aged between 12 and 23 months who have been fully immunised (BCG+DPT123+OPV123+Measles) during the month',\n",
    "                '^10\\.3\\.5': 'Adverse Event Following Immunisation (AEFI)',\n",
    "                '^10\\.4': 'Number of Immunisation sessions during the month',\n",
    "                '^14\\.10\\.1': 'Inpatient',\n",
    "                '^14\\.10\\.2': 'Deaths',\n",
    "                '^14\\.12': 'Outpatient',\n",
    "                '^14\\.13': 'Operation Theatre',\n",
    "                '^14\\.14': 'Others (Include other services like Dental, Ophthalmology , AYUSH etc.)',\n",
    "                '^15\\.1\\.1': 'Hb Tests conducted',\n",
    "                '^15\\.1\\.2': 'HIV tests conducted',\n",
    "                '^15\\.3': 'VDRL  tests conducted',\n",
    "                '^15\\.4\\.': 'Malaria tests conducted',\n",
    "                '^17\\.2': 'Infant Deaths up to 4 weeks by cause',\n",
    "                '^17\\.3': 'Infant/Child Deaths up to 5 years by cause',\n",
    "                '^17\\.4\\.[1-8]': 'Adolescent/Adult deaths by cause',\n",
    "                '^17\\.4.9': 'Maternal Deaths',\n",
    "                '^17\\.4\\.13': 'Other Diseases',\n",
    "                }\n",
    "for key, value in sub_cat_dict.iteritems():\n",
    "        df['Sub-Category'][df.Code.str.contains(key, na=False)] = value"
   ]
  },
  {
   "cell_type": "code",
   "execution_count": null,
   "metadata": {
    "collapsed": false
   },
   "outputs": [],
   "source": [
    "with pd.option_context('display.max_rows', 999, 'display.max_columns', 6):\n",
    "    print df"
   ]
  },
  {
   "cell_type": "code",
   "execution_count": null,
   "metadata": {
    "collapsed": false
   },
   "outputs": [],
   "source": [
    "df"
   ]
  },
  {
   "cell_type": "code",
   "execution_count": null,
   "metadata": {
    "collapsed": true
   },
   "outputs": [],
   "source": []
  }
 ],
 "metadata": {
  "kernelspec": {
   "display_name": "Python 2",
   "language": "python",
   "name": "python2"
  },
  "language_info": {
   "codemirror_mode": {
    "name": "ipython",
    "version": 2
   },
   "file_extension": ".py",
   "mimetype": "text/x-python",
   "name": "python",
   "nbconvert_exporter": "python",
   "pygments_lexer": "ipython2",
   "version": "2.7.12"
  }
 },
 "nbformat": 4,
 "nbformat_minor": 0
}
